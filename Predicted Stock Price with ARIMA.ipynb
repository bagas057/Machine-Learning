{
  "nbformat": 4,
  "nbformat_minor": 0,
  "metadata": {
    "colab": {
      "name": "ARIMA.ipynb",
      "provenance": [],
      "collapsed_sections": []
    },
    "kernelspec": {
      "name": "python3",
      "display_name": "Python 3"
    },
    "language_info": {
      "name": "python"
    },
    "accelerator": "GPU"
  },
  "cells": [
    {
      "cell_type": "code",
      "metadata": {
        "colab": {
          "base_uri": "https://localhost:8080/"
        },
        "id": "NzKhVbiXNWZx",
        "outputId": "33a41b2d-681f-4dda-a4f8-8773b1bcdd84"
      },
      "source": [
        "!pip install pmdarima\n",
        "\n",
        "import numpy as np \n",
        "import pandas as pd \n",
        "import matplotlib.pyplot as plt\n",
        "from pandas.plotting import lag_plot\n",
        "from pandas import datetime\n",
        "from statsmodels.tsa.arima_model import ARIMA\n",
        "from sklearn.metrics import mean_squared_error\n",
        "from sklearn.metrics import r2_score"
      ],
      "execution_count": null,
      "outputs": [
        {
          "output_type": "stream",
          "text": [
            "Collecting pmdarima\n",
            "\u001b[?25l  Downloading https://files.pythonhosted.org/packages/f4/c2/2a94bce6bba1deac3c0b16dbb14f28de0b9035e3211919cae8448455aa65/pmdarima-1.8.2-cp37-cp37m-manylinux1_x86_64.whl (1.5MB)\n",
            "\u001b[K     |████████████████████████████████| 1.5MB 26.6MB/s \n",
            "\u001b[?25hRequirement already satisfied: numpy~=1.19.0 in /usr/local/lib/python3.7/dist-packages (from pmdarima) (1.19.5)\n",
            "Collecting statsmodels!=0.12.0,>=0.11\n",
            "\u001b[?25l  Downloading https://files.pythonhosted.org/packages/da/69/8eef30a6237c54f3c0b524140e2975f4b1eea3489b45eb3339574fc8acee/statsmodels-0.12.2-cp37-cp37m-manylinux1_x86_64.whl (9.5MB)\n",
            "\u001b[K     |████████████████████████████████| 9.5MB 48.8MB/s \n",
            "\u001b[?25hRequirement already satisfied: pandas>=0.19 in /usr/local/lib/python3.7/dist-packages (from pmdarima) (1.1.5)\n",
            "Requirement already satisfied: scipy>=1.3.2 in /usr/local/lib/python3.7/dist-packages (from pmdarima) (1.4.1)\n",
            "Requirement already satisfied: Cython!=0.29.18,>=0.29 in /usr/local/lib/python3.7/dist-packages (from pmdarima) (0.29.23)\n",
            "Requirement already satisfied: setuptools!=50.0.0,>=38.6.0 in /usr/local/lib/python3.7/dist-packages (from pmdarima) (57.0.0)\n",
            "Requirement already satisfied: joblib>=0.11 in /usr/local/lib/python3.7/dist-packages (from pmdarima) (1.0.1)\n",
            "Requirement already satisfied: urllib3 in /usr/local/lib/python3.7/dist-packages (from pmdarima) (1.24.3)\n",
            "Requirement already satisfied: scikit-learn>=0.22 in /usr/local/lib/python3.7/dist-packages (from pmdarima) (0.22.2.post1)\n",
            "Requirement already satisfied: patsy>=0.5 in /usr/local/lib/python3.7/dist-packages (from statsmodels!=0.12.0,>=0.11->pmdarima) (0.5.1)\n",
            "Requirement already satisfied: pytz>=2017.2 in /usr/local/lib/python3.7/dist-packages (from pandas>=0.19->pmdarima) (2018.9)\n",
            "Requirement already satisfied: python-dateutil>=2.7.3 in /usr/local/lib/python3.7/dist-packages (from pandas>=0.19->pmdarima) (2.8.1)\n",
            "Requirement already satisfied: six in /usr/local/lib/python3.7/dist-packages (from patsy>=0.5->statsmodels!=0.12.0,>=0.11->pmdarima) (1.15.0)\n",
            "Installing collected packages: statsmodels, pmdarima\n",
            "  Found existing installation: statsmodels 0.10.2\n",
            "    Uninstalling statsmodels-0.10.2:\n",
            "      Successfully uninstalled statsmodels-0.10.2\n",
            "Successfully installed pmdarima-1.8.2 statsmodels-0.12.2\n"
          ],
          "name": "stdout"
        },
        {
          "output_type": "stream",
          "text": [
            "/usr/local/lib/python3.7/dist-packages/ipykernel_launcher.py:7: FutureWarning: The pandas.datetime class is deprecated and will be removed from pandas in a future version. Import from datetime module instead.\n",
            "  import sys\n"
          ],
          "name": "stderr"
        }
      ]
    },
    {
      "cell_type": "code",
      "metadata": {
        "colab": {
          "base_uri": "https://localhost:8080/",
          "height": 203
        },
        "id": "wzLkvjjyN09M",
        "outputId": "8138c306-ba7c-4f29-a6b9-84cec63d529a"
      },
      "source": [
        "df = pd.read_csv('/content/UNVR.JK.csv')\n",
        "df.head()"
      ],
      "execution_count": null,
      "outputs": [
        {
          "output_type": "execute_result",
          "data": {
            "text/html": [
              "<div>\n",
              "<style scoped>\n",
              "    .dataframe tbody tr th:only-of-type {\n",
              "        vertical-align: middle;\n",
              "    }\n",
              "\n",
              "    .dataframe tbody tr th {\n",
              "        vertical-align: top;\n",
              "    }\n",
              "\n",
              "    .dataframe thead th {\n",
              "        text-align: right;\n",
              "    }\n",
              "</style>\n",
              "<table border=\"1\" class=\"dataframe\">\n",
              "  <thead>\n",
              "    <tr style=\"text-align: right;\">\n",
              "      <th></th>\n",
              "      <th>Date</th>\n",
              "      <th>Open</th>\n",
              "      <th>High</th>\n",
              "      <th>Low</th>\n",
              "      <th>Close</th>\n",
              "      <th>Adj Close</th>\n",
              "      <th>Volume</th>\n",
              "    </tr>\n",
              "  </thead>\n",
              "  <tbody>\n",
              "    <tr>\n",
              "      <th>0</th>\n",
              "      <td>2003-09-03</td>\n",
              "      <td>615.0</td>\n",
              "      <td>675.0</td>\n",
              "      <td>605.0</td>\n",
              "      <td>675.0</td>\n",
              "      <td>395.962769</td>\n",
              "      <td>43162500</td>\n",
              "    </tr>\n",
              "    <tr>\n",
              "      <th>1</th>\n",
              "      <td>2003-09-04</td>\n",
              "      <td>690.0</td>\n",
              "      <td>750.0</td>\n",
              "      <td>675.0</td>\n",
              "      <td>685.0</td>\n",
              "      <td>401.828796</td>\n",
              "      <td>82850000</td>\n",
              "    </tr>\n",
              "    <tr>\n",
              "      <th>2</th>\n",
              "      <td>2003-09-05</td>\n",
              "      <td>685.0</td>\n",
              "      <td>700.0</td>\n",
              "      <td>680.0</td>\n",
              "      <td>690.0</td>\n",
              "      <td>404.761993</td>\n",
              "      <td>24055000</td>\n",
              "    </tr>\n",
              "    <tr>\n",
              "      <th>3</th>\n",
              "      <td>2003-09-08</td>\n",
              "      <td>690.0</td>\n",
              "      <td>690.0</td>\n",
              "      <td>665.0</td>\n",
              "      <td>680.0</td>\n",
              "      <td>398.895813</td>\n",
              "      <td>18007500</td>\n",
              "    </tr>\n",
              "    <tr>\n",
              "      <th>4</th>\n",
              "      <td>2003-09-09</td>\n",
              "      <td>680.0</td>\n",
              "      <td>680.0</td>\n",
              "      <td>660.0</td>\n",
              "      <td>665.0</td>\n",
              "      <td>390.096558</td>\n",
              "      <td>14075000</td>\n",
              "    </tr>\n",
              "  </tbody>\n",
              "</table>\n",
              "</div>"
            ],
            "text/plain": [
              "         Date   Open   High    Low  Close   Adj Close    Volume\n",
              "0  2003-09-03  615.0  675.0  605.0  675.0  395.962769  43162500\n",
              "1  2003-09-04  690.0  750.0  675.0  685.0  401.828796  82850000\n",
              "2  2003-09-05  685.0  700.0  680.0  690.0  404.761993  24055000\n",
              "3  2003-09-08  690.0  690.0  665.0  680.0  398.895813  18007500\n",
              "4  2003-09-09  680.0  680.0  660.0  665.0  390.096558  14075000"
            ]
          },
          "metadata": {
            "tags": []
          },
          "execution_count": 3
        }
      ]
    },
    {
      "cell_type": "code",
      "metadata": {
        "colab": {
          "base_uri": "https://localhost:8080/"
        },
        "id": "XKzk_zykt-p-",
        "outputId": "0bb3a28c-01ec-4bc0-b83d-2a6b4d415b85"
      },
      "source": [
        "df.isna().sum()"
      ],
      "execution_count": null,
      "outputs": [
        {
          "output_type": "execute_result",
          "data": {
            "text/plain": [
              "Date         0\n",
              "Open         0\n",
              "High         0\n",
              "Low          0\n",
              "Close        0\n",
              "Adj Close    0\n",
              "Volume       0\n",
              "dtype: int64"
            ]
          },
          "metadata": {
            "tags": []
          },
          "execution_count": 4
        }
      ]
    },
    {
      "cell_type": "code",
      "metadata": {
        "colab": {
          "base_uri": "https://localhost:8080/"
        },
        "id": "eF7wb1Zlnq8b",
        "outputId": "f6e1cd77-ea1c-4b3a-86ab-c50c65c5ce00"
      },
      "source": [
        "df.info()"
      ],
      "execution_count": null,
      "outputs": [
        {
          "output_type": "stream",
          "text": [
            "<class 'pandas.core.frame.DataFrame'>\n",
            "RangeIndex: 4355 entries, 0 to 4354\n",
            "Data columns (total 7 columns):\n",
            " #   Column     Non-Null Count  Dtype  \n",
            "---  ------     --------------  -----  \n",
            " 0   Date       4355 non-null   object \n",
            " 1   Open       4355 non-null   float64\n",
            " 2   High       4355 non-null   float64\n",
            " 3   Low        4355 non-null   float64\n",
            " 4   Close      4355 non-null   float64\n",
            " 5   Adj Close  4355 non-null   float64\n",
            " 6   Volume     4355 non-null   int64  \n",
            "dtypes: float64(5), int64(1), object(1)\n",
            "memory usage: 238.3+ KB\n"
          ],
          "name": "stdout"
        }
      ]
    },
    {
      "cell_type": "code",
      "metadata": {
        "colab": {
          "base_uri": "https://localhost:8080/"
        },
        "id": "UDe8kQlMn3o5",
        "outputId": "59fda52c-7267-4dd2-e76e-94face86571d"
      },
      "source": [
        "df.shape"
      ],
      "execution_count": null,
      "outputs": [
        {
          "output_type": "execute_result",
          "data": {
            "text/plain": [
              "(4355, 7)"
            ]
          },
          "metadata": {
            "tags": []
          },
          "execution_count": 6
        }
      ]
    },
    {
      "cell_type": "code",
      "metadata": {
        "id": "0_Gj1kV6nv_W"
      },
      "source": [
        "df['Date'] = pd.to_datetime(df['Date'])\n",
        "df.set_index('Date',inplace=True)"
      ],
      "execution_count": null,
      "outputs": []
    },
    {
      "cell_type": "code",
      "metadata": {
        "id": "pJAx54t1pObZ"
      },
      "source": [
        "df_train = df[0:int(len(df)*0.8)]\n",
        "df_test = df[int(len(df)*0.8):]"
      ],
      "execution_count": null,
      "outputs": []
    },
    {
      "cell_type": "code",
      "metadata": {
        "colab": {
          "base_uri": "https://localhost:8080/"
        },
        "id": "B258t1TtpVsz",
        "outputId": "1e7b7078-3679-4502-f299-605323c7a671"
      },
      "source": [
        "df_train.shape"
      ],
      "execution_count": null,
      "outputs": [
        {
          "output_type": "execute_result",
          "data": {
            "text/plain": [
              "(3484, 6)"
            ]
          },
          "metadata": {
            "tags": []
          },
          "execution_count": 9
        }
      ]
    },
    {
      "cell_type": "code",
      "metadata": {
        "colab": {
          "base_uri": "https://localhost:8080/"
        },
        "id": "zWoB9cKPpcOi",
        "outputId": "c80373cb-1420-4777-c6ca-2cc211f49604"
      },
      "source": [
        "df_test.shape"
      ],
      "execution_count": null,
      "outputs": [
        {
          "output_type": "execute_result",
          "data": {
            "text/plain": [
              "(871, 6)"
            ]
          },
          "metadata": {
            "tags": []
          },
          "execution_count": 10
        }
      ]
    },
    {
      "cell_type": "code",
      "metadata": {
        "colab": {
          "base_uri": "https://localhost:8080/",
          "height": 353
        },
        "id": "gaMEisb_pgie",
        "outputId": "c579c8a6-be25-4cb6-f39c-c8264c43f828"
      },
      "source": [
        "plt.figure(figsize=(16,8))\n",
        "plt.title('Saham UNVR', fontsize = 20)\n",
        "plt.plot(df_train['Open'], color='red')\n",
        "plt.plot(df_test['Open'], color='blue')\n",
        "plt.xlabel('Year', fontsize = 18)\n",
        "plt.ylabel('Open Price', fontsize = 18)\n",
        "plt.show()"
      ],
      "execution_count": null,
      "outputs": [
        {
          "output_type": "display_data",
          "data": {
            "image/png": "[encoded data removed]",
            "text/plain": [
              "<Figure size 1152x576 with 1 Axes>"
            ]
          },
          "metadata": {
            "tags": [],
            "needs_background": "light"
          }
        }
      ]
    },
    {
      "cell_type": "code",
      "metadata": {
        "id": "asC17CooCpXn"
      },
      "source": [
        "import warnings \n",
        "warnings.filterwarnings('ignore')"
      ],
      "execution_count": null,
      "outputs": []
    },
    {
      "cell_type": "code",
      "metadata": {
        "colab": {
          "base_uri": "https://localhost:8080/"
        },
        "id": "VWbtLu-RBdPt",
        "outputId": "2981fcc2-a18f-440d-e6ca-a9dbecb13c2b"
      },
      "source": [
        "from pmdarima import auto_arima\n",
        "stepwise_fit = auto_arima(df['Open'], trace=True,\n",
        "suppress_warnings=True)"
      ],
      "execution_count": null,
      "outputs": [
        {
          "output_type": "stream",
          "text": [
            "Performing stepwise search to minimize aic\n",
            " ARIMA(2,1,2)(0,0,0)[0] intercept   : AIC=52529.678, Time=4.92 sec\n",
            " ARIMA(0,1,0)(0,0,0)[0] intercept   : AIC=52603.660, Time=0.12 sec\n",
            " ARIMA(1,1,0)(0,0,0)[0] intercept   : AIC=52554.068, Time=0.14 sec\n",
            " ARIMA(0,1,1)(0,0,0)[0] intercept   : AIC=52545.700, Time=0.92 sec\n",
            " ARIMA(0,1,0)(0,0,0)[0]             : AIC=52602.497, Time=0.07 sec\n",
            " ARIMA(1,1,2)(0,0,0)[0] intercept   : AIC=52528.614, Time=3.36 sec\n",
            " ARIMA(0,1,2)(0,0,0)[0] intercept   : AIC=52528.647, Time=0.42 sec\n",
            " ARIMA(1,1,1)(0,0,0)[0] intercept   : AIC=52526.879, Time=1.71 sec\n",
            " ARIMA(2,1,1)(0,0,0)[0] intercept   : AIC=52528.665, Time=2.58 sec\n",
            " ARIMA(2,1,0)(0,0,0)[0] intercept   : AIC=52530.868, Time=0.41 sec\n",
            " ARIMA(1,1,1)(0,0,0)[0]             : AIC=52526.350, Time=0.63 sec\n",
            " ARIMA(0,1,1)(0,0,0)[0]             : AIC=52544.813, Time=0.16 sec\n",
            " ARIMA(1,1,0)(0,0,0)[0]             : AIC=52553.109, Time=0.12 sec\n",
            " ARIMA(2,1,1)(0,0,0)[0]             : AIC=52528.184, Time=0.68 sec\n",
            " ARIMA(1,1,2)(0,0,0)[0]             : AIC=52528.148, Time=0.91 sec\n",
            " ARIMA(0,1,2)(0,0,0)[0]             : AIC=52527.872, Time=0.19 sec\n",
            " ARIMA(2,1,0)(0,0,0)[0]             : AIC=52530.081, Time=0.17 sec\n",
            " ARIMA(2,1,2)(0,0,0)[0]             : AIC=52529.111, Time=1.54 sec\n",
            "\n",
            "Best model:  ARIMA(1,1,1)(0,0,0)[0]          \n",
            "Total fit time: 19.088 seconds\n"
          ],
          "name": "stdout"
        }
      ]
    },
    {
      "cell_type": "code",
      "metadata": {
        "colab": {
          "base_uri": "https://localhost:8080/"
        },
        "id": "v0kgu2kg3RZX",
        "outputId": "d71f9652-10c2-4ae5-ed7d-0bca89808086"
      },
      "source": [
        "training_ar = df_train['Open'].values\n",
        "test_ar = df_test['Open'].values\n",
        "\n",
        "history = [x for x in training_ar]\n",
        "print(type(history))\n",
        "predictions = []\n",
        "\n",
        "for t in range(len(test_ar)):\n",
        "    model = ARIMA(history, order=(1,1,1))\n",
        "    model_fit = model.fit(disp=0)\n",
        "    output = model_fit.forecast()\n",
        "    yhat = output[0]\n",
        "    predictions.append(yhat)\n",
        "    obs = test_ar[t]\n",
        "    history.append(obs)\n",
        "    \n",
        "print(model_fit.aic)\n",
        "error = mean_squared_error(test_ar, predictions)\n",
        "print('Testing Mean Squared Error: %.3f' % error)"
      ],
      "execution_count": null,
      "outputs": [
        {
          "output_type": "stream",
          "text": [
            "<class 'list'>\n",
            "52514.581046336534\n",
            "Testing Mean Squared Error: 22621.648\n"
          ],
          "name": "stdout"
        }
      ]
    },
    {
      "cell_type": "code",
      "metadata": {
        "colab": {
          "base_uri": "https://localhost:8080/",
          "height": 203
        },
        "id": "41pn0xOj5QHL",
        "outputId": "9212f9ca-e497-45a0-ae00-d60e60637b25"
      },
      "source": [
        "predict = np.array(predictions)\n",
        "\n",
        "df_results = pd.DataFrame()\n",
        "df_results['Real'] = df_test['Open'].reset_index(drop = True)\n",
        "df_results['Predict'] = predict\n",
        "df_results.tail()"
      ],
      "execution_count": null,
      "outputs": [
        {
          "output_type": "execute_result",
          "data": {
            "text/html": [
              "<div>\n",
              "<style scoped>\n",
              "    .dataframe tbody tr th:only-of-type {\n",
              "        vertical-align: middle;\n",
              "    }\n",
              "\n",
              "    .dataframe tbody tr th {\n",
              "        vertical-align: top;\n",
              "    }\n",
              "\n",
              "    .dataframe thead th {\n",
              "        text-align: right;\n",
              "    }\n",
              "</style>\n",
              "<table border=\"1\" class=\"dataframe\">\n",
              "  <thead>\n",
              "    <tr style=\"text-align: right;\">\n",
              "      <th></th>\n",
              "      <th>Real</th>\n",
              "      <th>Predict</th>\n",
              "    </tr>\n",
              "  </thead>\n",
              "  <tbody>\n",
              "    <tr>\n",
              "      <th>866</th>\n",
              "      <td>6975.0</td>\n",
              "      <td>6990.081184</td>\n",
              "    </tr>\n",
              "    <tr>\n",
              "      <th>867</th>\n",
              "      <td>6900.0</td>\n",
              "      <td>6985.209868</td>\n",
              "    </tr>\n",
              "    <tr>\n",
              "      <th>868</th>\n",
              "      <td>6850.0</td>\n",
              "      <td>6915.949080</td>\n",
              "    </tr>\n",
              "    <tr>\n",
              "      <th>869</th>\n",
              "      <td>6850.0</td>\n",
              "      <td>6866.596339</td>\n",
              "    </tr>\n",
              "    <tr>\n",
              "      <th>870</th>\n",
              "      <td>6750.0</td>\n",
              "      <td>6861.122744</td>\n",
              "    </tr>\n",
              "  </tbody>\n",
              "</table>\n",
              "</div>"
            ],
            "text/plain": [
              "       Real      Predict\n",
              "866  6975.0  6990.081184\n",
              "867  6900.0  6985.209868\n",
              "868  6850.0  6915.949080\n",
              "869  6850.0  6866.596339\n",
              "870  6750.0  6861.122744"
            ]
          },
          "metadata": {
            "tags": []
          },
          "execution_count": 18
        }
      ]
    },
    {
      "cell_type": "code",
      "metadata": {
        "id": "udfsf-EsQgcK"
      },
      "source": [
        "df_results.to_excel(\"testing_arima.xlsx\")"
      ],
      "execution_count": null,
      "outputs": []
    },
    {
      "cell_type": "code",
      "metadata": {
        "colab": {
          "base_uri": "https://localhost:8080/"
        },
        "id": "nPUX69pUFP7b",
        "outputId": "32fd92a6-4dd5-44cc-8dd0-bdf11bc94f7e"
      },
      "source": [
        "r2 = r2_score(df_results['Real'], df_results['Predict'])\n",
        "r2 = r2 * 100\n",
        "print ('Koefisien Determinasi : ' \"{:.2f}\".format(r2)+' %')\n",
        "\n",
        "def mape(actual, pred): \n",
        "    actual, pred = np.array(actual), np.array(pred)\n",
        "    return np.mean(np.abs((actual - pred) / actual)) * 100\n",
        "mape1 = mape(df_results['Real'], df_results['Predict'])\n",
        "print ('Mean Absolute Persentage Error : ' \"{:.2f}\".format(mape1)+' %')"
      ],
      "execution_count": null,
      "outputs": [
        {
          "output_type": "stream",
          "text": [
            "Koefisien Determinasi : 97.85 %\n",
            "Mean Absolute Persentage Error : 1.21 %\n"
          ],
          "name": "stdout"
        }
      ]
    },
    {
      "cell_type": "code",
      "metadata": {
        "colab": {
          "base_uri": "https://localhost:8080/"
        },
        "id": "dT1WYmjFIkdz",
        "outputId": "426dec5a-b1f0-4061-c827-bd7c055d6d16"
      },
      "source": [
        "plt.scatter(x = df_results['Predict'], y = df_results['Real'], s = 3)\n",
        "plt.xlabel('Predict', fontsize = 10)\n",
        "plt.ylabel('Real', fontsize = 10)\n",
        "plt.show()"
      ],
      "execution_count": null,
      "outputs": [
        {
          "output_type": "display_data",
          "data": {
            "image/png": "[encoded data removed]",
            "text/plain": [
              "<Figure size 432x288 with 1 Axes>"
            ]
          },
          "metadata": {
            "tags": [],
            "needs_background": "light"
          }
        }
      ]
    },
    {
      "cell_type": "code",
      "metadata": {
        "colab": {
          "base_uri": "https://localhost:8080/"
        },
        "id": "rNObX8pqJVSv",
        "outputId": "02ca4369-f75b-46e0-8a20-f6a5fc17dc95"
      },
      "source": [
        "plt.plot(df_results['Real'])\n",
        "plt.plot(df_results['Predict'])\n",
        "plt.xlabel('Data Test', fontsize = 10)\n",
        "plt.ylabel('Open', fontsize = 10)\n",
        "plt.legend(['Real', 'Predict'])\n",
        "plt.title('Real vs Predict')\n",
        "plt.show()"
      ],
      "execution_count": null,
      "outputs": [
        {
          "output_type": "display_data",
          "data": {
            "image/png": "[encoded data removed]",
            "text/plain": [
              "<Figure size 432x288 with 1 Axes>"
            ]
          },
          "metadata": {
            "tags": [],
            "needs_background": "light"
          }
        }
      ]
    }
  ]
}