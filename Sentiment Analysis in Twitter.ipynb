{
  "nbformat": 4,
  "nbformat_minor": 0,
  "metadata": {
    "colab": {
      "name": "Bagas_Pratama_Submission_1.ipynb",
      "provenance": [],
      "collapsed_sections": []
    },
    "kernelspec": {
      "name": "python3",
      "display_name": "Python 3"
    },
    "language_info": {
      "name": "python"
    },
    "accelerator": "GPU"
  },
  "cells": [
    {
      "cell_type": "code",
      "metadata": {
        "colab": {
          "base_uri": "https://localhost:8080/"
        },
        "id": "SypeBJGw3APy",
        "outputId": "34e0c621-96d9-4596-e766-ae229c239ff4"
      },
      "source": [
        "import numpy as np\n",
        "import pandas as pd\n",
        "import os\n",
        "import re \n",
        "import nltk \n",
        "import seaborn as sns\n",
        "import matplotlib.pyplot as plt\n",
        "import matplotlib.patches as mpatches\n",
        "import tensorflow as tf\n",
        "import pickle\n",
        "\n",
        "nltk.download(\"stopwords\")\n",
        "from sklearn.preprocessing import LabelEncoder\n",
        "from nltk.corpus import stopwords\n",
        "from nltk.stem.porter import *\n",
        "from sklearn.model_selection import train_test_split\n",
        "from sklearn.feature_extraction.text import CountVectorizer\n",
        "from keras.models import Sequential\n",
        "from keras.layers import Embedding, Conv1D, MaxPooling1D, Bidirectional, LSTM, Dense, Dropout\n",
        "from keras.metrics import Precision, Recall\n",
        "from keras.optimizers import SGD\n",
        "from keras.optimizers import RMSprop\n",
        "from keras import datasets\n",
        "from keras.callbacks import LearningRateScheduler\n",
        "from keras.callbacks import History\n",
        "from keras.preprocessing.text import Tokenizer\n",
        "from keras.preprocessing.sequence import pad_sequences\n",
        "\n",
        "from keras import losses\n",
        "%matplotlib inline"
      ],
      "execution_count": null,
      "outputs": [
        {
          "output_type": "stream",
          "text": [
            "[nltk_data] Downloading package stopwords to /root/nltk_data...\n",
            "[nltk_data]   Unzipping corpora/stopwords.zip.\n"
          ],
          "name": "stdout"
        }
      ]
    },
    {
      "cell_type": "code",
      "metadata": {
        "colab": {
          "base_uri": "https://localhost:8080/",
          "height": 203
        },
        "id": "AaFBf3Fl6iJQ",
        "outputId": "03aa183d-2161-47d0-996e-dc00efff409c"
      },
      "source": [
        "df1 = pd.read_csv('/content/Twitter_Data.csv')\n",
        "\n",
        "df1.head()"
      ],
      "execution_count": null,
      "outputs": [
        {
          "output_type": "execute_result",
          "data": {
            "text/html": [
              "<div>\n",
              "<style scoped>\n",
              "    .dataframe tbody tr th:only-of-type {\n",
              "        vertical-align: middle;\n",
              "    }\n",
              "\n",
              "    .dataframe tbody tr th {\n",
              "        vertical-align: top;\n",
              "    }\n",
              "\n",
              "    .dataframe thead th {\n",
              "        text-align: right;\n",
              "    }\n",
              "</style>\n",
              "<table border=\"1\" class=\"dataframe\">\n",
              "  <thead>\n",
              "    <tr style=\"text-align: right;\">\n",
              "      <th></th>\n",
              "      <th>clean_text</th>\n",
              "      <th>category</th>\n",
              "    </tr>\n",
              "  </thead>\n",
              "  <tbody>\n",
              "    <tr>\n",
              "      <th>0</th>\n",
              "      <td>when modi promised “minimum government maximum...</td>\n",
              "      <td>-1.0</td>\n",
              "    </tr>\n",
              "    <tr>\n",
              "      <th>1</th>\n",
              "      <td>talk all the nonsense and continue all the dra...</td>\n",
              "      <td>0.0</td>\n",
              "    </tr>\n",
              "    <tr>\n",
              "      <th>2</th>\n",
              "      <td>what did just say vote for modi  welcome bjp t...</td>\n",
              "      <td>1.0</td>\n",
              "    </tr>\n",
              "    <tr>\n",
              "      <th>3</th>\n",
              "      <td>asking his supporters prefix chowkidar their n...</td>\n",
              "      <td>1.0</td>\n",
              "    </tr>\n",
              "    <tr>\n",
              "      <th>4</th>\n",
              "      <td>answer who among these the most powerful world...</td>\n",
              "      <td>1.0</td>\n",
              "    </tr>\n",
              "  </tbody>\n",
              "</table>\n",
              "</div>"
            ],
            "text/plain": [
              "                                          clean_text  category\n",
              "0  when modi promised “minimum government maximum...      -1.0\n",
              "1  talk all the nonsense and continue all the dra...       0.0\n",
              "2  what did just say vote for modi  welcome bjp t...       1.0\n",
              "3  asking his supporters prefix chowkidar their n...       1.0\n",
              "4  answer who among these the most powerful world...       1.0"
            ]
          },
          "metadata": {
            "tags": []
          },
          "execution_count": 2
        }
      ]
    },
    {
      "cell_type": "code",
      "metadata": {
        "colab": {
          "base_uri": "https://localhost:8080/",
          "height": 203
        },
        "id": "SCqFUUZt6qn3",
        "outputId": "b3481696-b94f-47e9-b5b7-99c857b3c213"
      },
      "source": [
        "df2 = pd.read_csv('/content/apple-twitter-sentiment-texts.csv')\n",
        "df2 = df2.rename(columns={'text': 'clean_text', 'sentiment':'category'})\n",
        "df2['category'] = df2['category'].map({-1: -1.0, 0: 0.0, 1:1.0})\n",
        "\n",
        "df2.head()"
      ],
      "execution_count": null,
      "outputs": [
        {
          "output_type": "execute_result",
          "data": {
            "text/html": [
              "<div>\n",
              "<style scoped>\n",
              "    .dataframe tbody tr th:only-of-type {\n",
              "        vertical-align: middle;\n",
              "    }\n",
              "\n",
              "    .dataframe tbody tr th {\n",
              "        vertical-align: top;\n",
              "    }\n",
              "\n",
              "    .dataframe thead th {\n",
              "        text-align: right;\n",
              "    }\n",
              "</style>\n",
              "<table border=\"1\" class=\"dataframe\">\n",
              "  <thead>\n",
              "    <tr style=\"text-align: right;\">\n",
              "      <th></th>\n",
              "      <th>clean_text</th>\n",
              "      <th>category</th>\n",
              "    </tr>\n",
              "  </thead>\n",
              "  <tbody>\n",
              "    <tr>\n",
              "      <th>0</th>\n",
              "      <td>Wow. Yall needa step it up @Apple RT @heynyla:...</td>\n",
              "      <td>-1.0</td>\n",
              "    </tr>\n",
              "    <tr>\n",
              "      <th>1</th>\n",
              "      <td>What Happened To Apple Inc?   http://t.co/FJEX...</td>\n",
              "      <td>0.0</td>\n",
              "    </tr>\n",
              "    <tr>\n",
              "      <th>2</th>\n",
              "      <td>Thank u @apple I can now compile all of the pi...</td>\n",
              "      <td>1.0</td>\n",
              "    </tr>\n",
              "    <tr>\n",
              "      <th>3</th>\n",
              "      <td>The oddly uplifting story of the Apple co-foun...</td>\n",
              "      <td>0.0</td>\n",
              "    </tr>\n",
              "    <tr>\n",
              "      <th>4</th>\n",
              "      <td>@apple can i exchange my iphone for a differen...</td>\n",
              "      <td>0.0</td>\n",
              "    </tr>\n",
              "  </tbody>\n",
              "</table>\n",
              "</div>"
            ],
            "text/plain": [
              "                                          clean_text  category\n",
              "0  Wow. Yall needa step it up @Apple RT @heynyla:...      -1.0\n",
              "1  What Happened To Apple Inc?   http://t.co/FJEX...       0.0\n",
              "2  Thank u @apple I can now compile all of the pi...       1.0\n",
              "3  The oddly uplifting story of the Apple co-foun...       0.0\n",
              "4  @apple can i exchange my iphone for a differen...       0.0"
            ]
          },
          "metadata": {
            "tags": []
          },
          "execution_count": 3
        }
      ]
    },
    {
      "cell_type": "code",
      "metadata": {
        "colab": {
          "base_uri": "https://localhost:8080/",
          "height": 203
        },
        "id": "CfxoXWCG63Fw",
        "outputId": "6825e182-2768-40e0-9551-4d8d0554ec2e"
      },
      "source": [
        "df3 = pd.read_csv('/content/finalSentimentdata2.csv')\n",
        "df3 = df3.rename(columns={'text': 'clean_text', 'sentiment':'category'})\n",
        "df3['category'] = df3['category'].map({'sad': -1.0, 'anger': -1.0, 'fear': -1.0, 'joy':1.0})\n",
        "df3 = df3.drop(['Unnamed: 0'], axis=1)\n",
        "\n",
        "df3.head()"
      ],
      "execution_count": null,
      "outputs": [
        {
          "output_type": "execute_result",
          "data": {
            "text/html": [
              "<div>\n",
              "<style scoped>\n",
              "    .dataframe tbody tr th:only-of-type {\n",
              "        vertical-align: middle;\n",
              "    }\n",
              "\n",
              "    .dataframe tbody tr th {\n",
              "        vertical-align: top;\n",
              "    }\n",
              "\n",
              "    .dataframe thead th {\n",
              "        text-align: right;\n",
              "    }\n",
              "</style>\n",
              "<table border=\"1\" class=\"dataframe\">\n",
              "  <thead>\n",
              "    <tr style=\"text-align: right;\">\n",
              "      <th></th>\n",
              "      <th>category</th>\n",
              "      <th>clean_text</th>\n",
              "    </tr>\n",
              "  </thead>\n",
              "  <tbody>\n",
              "    <tr>\n",
              "      <th>0</th>\n",
              "      <td>-1.0</td>\n",
              "      <td>agree the poor in india are treated badly thei...</td>\n",
              "    </tr>\n",
              "    <tr>\n",
              "      <th>1</th>\n",
              "      <td>1.0</td>\n",
              "      <td>if only i could have spent the with this cutie...</td>\n",
              "    </tr>\n",
              "    <tr>\n",
              "      <th>2</th>\n",
              "      <td>1.0</td>\n",
              "      <td>will nature conservation remain a priority in ...</td>\n",
              "    </tr>\n",
              "    <tr>\n",
              "      <th>3</th>\n",
              "      <td>-1.0</td>\n",
              "      <td>coronavirus disappearing in italy show this to...</td>\n",
              "    </tr>\n",
              "    <tr>\n",
              "      <th>4</th>\n",
              "      <td>-1.0</td>\n",
              "      <td>uk records lowest daily virus death toll since...</td>\n",
              "    </tr>\n",
              "  </tbody>\n",
              "</table>\n",
              "</div>"
            ],
            "text/plain": [
              "   category                                         clean_text\n",
              "0      -1.0  agree the poor in india are treated badly thei...\n",
              "1       1.0  if only i could have spent the with this cutie...\n",
              "2       1.0  will nature conservation remain a priority in ...\n",
              "3      -1.0  coronavirus disappearing in italy show this to...\n",
              "4      -1.0  uk records lowest daily virus death toll since..."
            ]
          },
          "metadata": {
            "tags": []
          },
          "execution_count": 4
        }
      ]
    },
    {
      "cell_type": "code",
      "metadata": {
        "colab": {
          "base_uri": "https://localhost:8080/",
          "height": 203
        },
        "id": "zsQmm7Vy69O6",
        "outputId": "1d72c6fa-fa76-4d3d-b8e0-4b8f632fd404"
      },
      "source": [
        "df4 = pd.read_csv('/content/Tweets.csv')\n",
        "df4 = df4.rename(columns={'text': 'clean_text', 'airline_sentiment':'category'})\n",
        "df4['category'] = df4['category'].map({'negative': -1.0, 'neutral': 0.0, 'positive':1.0})\n",
        "df4 = df4[['category','clean_text']]\n",
        "\n",
        "df4.head()"
      ],
      "execution_count": null,
      "outputs": [
        {
          "output_type": "execute_result",
          "data": {
            "text/html": [
              "<div>\n",
              "<style scoped>\n",
              "    .dataframe tbody tr th:only-of-type {\n",
              "        vertical-align: middle;\n",
              "    }\n",
              "\n",
              "    .dataframe tbody tr th {\n",
              "        vertical-align: top;\n",
              "    }\n",
              "\n",
              "    .dataframe thead th {\n",
              "        text-align: right;\n",
              "    }\n",
              "</style>\n",
              "<table border=\"1\" class=\"dataframe\">\n",
              "  <thead>\n",
              "    <tr style=\"text-align: right;\">\n",
              "      <th></th>\n",
              "      <th>category</th>\n",
              "      <th>clean_text</th>\n",
              "    </tr>\n",
              "  </thead>\n",
              "  <tbody>\n",
              "    <tr>\n",
              "      <th>0</th>\n",
              "      <td>0.0</td>\n",
              "      <td>@VirginAmerica What @dhepburn said.</td>\n",
              "    </tr>\n",
              "    <tr>\n",
              "      <th>1</th>\n",
              "      <td>1.0</td>\n",
              "      <td>@VirginAmerica plus you've added commercials t...</td>\n",
              "    </tr>\n",
              "    <tr>\n",
              "      <th>2</th>\n",
              "      <td>0.0</td>\n",
              "      <td>@VirginAmerica I didn't today... Must mean I n...</td>\n",
              "    </tr>\n",
              "    <tr>\n",
              "      <th>3</th>\n",
              "      <td>-1.0</td>\n",
              "      <td>@VirginAmerica it's really aggressive to blast...</td>\n",
              "    </tr>\n",
              "    <tr>\n",
              "      <th>4</th>\n",
              "      <td>-1.0</td>\n",
              "      <td>@VirginAmerica and it's a really big bad thing...</td>\n",
              "    </tr>\n",
              "  </tbody>\n",
              "</table>\n",
              "</div>"
            ],
            "text/plain": [
              "   category                                         clean_text\n",
              "0       0.0                @VirginAmerica What @dhepburn said.\n",
              "1       1.0  @VirginAmerica plus you've added commercials t...\n",
              "2       0.0  @VirginAmerica I didn't today... Must mean I n...\n",
              "3      -1.0  @VirginAmerica it's really aggressive to blast...\n",
              "4      -1.0  @VirginAmerica and it's a really big bad thing..."
            ]
          },
          "metadata": {
            "tags": []
          },
          "execution_count": 5
        }
      ]
    },
    {
      "cell_type": "code",
      "metadata": {
        "id": "x_lWOJUC7CO2"
      },
      "source": [
        "df = pd.concat([df1, df2, df3, df4], ignore_index=True)"
      ],
      "execution_count": null,
      "outputs": []
    },
    {
      "cell_type": "code",
      "metadata": {
        "colab": {
          "base_uri": "https://localhost:8080/"
        },
        "id": "sHmGANlz7E3z",
        "outputId": "0542dd07-65e2-47b5-9a8c-87632bd4f630"
      },
      "source": [
        "df.isnull().sum()"
      ],
      "execution_count": null,
      "outputs": [
        {
          "output_type": "execute_result",
          "data": {
            "text/plain": [
              "clean_text    4\n",
              "category      7\n",
              "dtype: int64"
            ]
          },
          "metadata": {
            "tags": []
          },
          "execution_count": 7
        }
      ]
    },
    {
      "cell_type": "code",
      "metadata": {
        "id": "coWO_-Ax7Gtc"
      },
      "source": [
        "df.dropna(axis=0, inplace=True)"
      ],
      "execution_count": null,
      "outputs": []
    },
    {
      "cell_type": "code",
      "metadata": {
        "colab": {
          "base_uri": "https://localhost:8080/"
        },
        "id": "8qYiLnOP7JGf",
        "outputId": "af44a665-f471-44ff-f1bd-0a026f86da17"
      },
      "source": [
        "df.shape"
      ],
      "execution_count": null,
      "outputs": [
        {
          "output_type": "execute_result",
          "data": {
            "text/plain": [
              "(182329, 2)"
            ]
          },
          "metadata": {
            "tags": []
          },
          "execution_count": 9
        }
      ]
    },
    {
      "cell_type": "code",
      "metadata": {
        "colab": {
          "base_uri": "https://localhost:8080/",
          "height": 203
        },
        "id": "HrX2vzwQ7Otf",
        "outputId": "e6306984-fae9-4ab1-c834-012c5267aaa5"
      },
      "source": [
        "df['category'] = df['category'].map({-1.0:'Negatif', 0.0:'Netral', 1.0:'Positif'})\n",
        "\n",
        "df.head()"
      ],
      "execution_count": null,
      "outputs": [
        {
          "output_type": "execute_result",
          "data": {
            "text/html": [
              "<div>\n",
              "<style scoped>\n",
              "    .dataframe tbody tr th:only-of-type {\n",
              "        vertical-align: middle;\n",
              "    }\n",
              "\n",
              "    .dataframe tbody tr th {\n",
              "        vertical-align: top;\n",
              "    }\n",
              "\n",
              "    .dataframe thead th {\n",
              "        text-align: right;\n",
              "    }\n",
              "</style>\n",
              "<table border=\"1\" class=\"dataframe\">\n",
              "  <thead>\n",
              "    <tr style=\"text-align: right;\">\n",
              "      <th></th>\n",
              "      <th>clean_text</th>\n",
              "      <th>category</th>\n",
              "    </tr>\n",
              "  </thead>\n",
              "  <tbody>\n",
              "    <tr>\n",
              "      <th>0</th>\n",
              "      <td>when modi promised “minimum government maximum...</td>\n",
              "      <td>Negatif</td>\n",
              "    </tr>\n",
              "    <tr>\n",
              "      <th>1</th>\n",
              "      <td>talk all the nonsense and continue all the dra...</td>\n",
              "      <td>Netral</td>\n",
              "    </tr>\n",
              "    <tr>\n",
              "      <th>2</th>\n",
              "      <td>what did just say vote for modi  welcome bjp t...</td>\n",
              "      <td>Positif</td>\n",
              "    </tr>\n",
              "    <tr>\n",
              "      <th>3</th>\n",
              "      <td>asking his supporters prefix chowkidar their n...</td>\n",
              "      <td>Positif</td>\n",
              "    </tr>\n",
              "    <tr>\n",
              "      <th>4</th>\n",
              "      <td>answer who among these the most powerful world...</td>\n",
              "      <td>Positif</td>\n",
              "    </tr>\n",
              "  </tbody>\n",
              "</table>\n",
              "</div>"
            ],
            "text/plain": [
              "                                          clean_text category\n",
              "0  when modi promised “minimum government maximum...  Negatif\n",
              "1  talk all the nonsense and continue all the dra...   Netral\n",
              "2  what did just say vote for modi  welcome bjp t...  Positif\n",
              "3  asking his supporters prefix chowkidar their n...  Positif\n",
              "4  answer who among these the most powerful world...  Positif"
            ]
          },
          "metadata": {
            "tags": []
          },
          "execution_count": 10
        }
      ]
    },
    {
      "cell_type": "code",
      "metadata": {
        "colab": {
          "base_uri": "https://localhost:8080/"
        },
        "id": "GhjnPaY17ajo",
        "outputId": "451c67c8-1d6d-48ad-8f08-c9acdf175c10"
      },
      "source": [
        "def tweet_to_words(tweet): \n",
        "  text = tweet.lower()\n",
        "  text = re.sub(r\"[^a-zA-Z0-9]\", \" \", text)\n",
        "  words = text.split()\n",
        "  words = [w for w in words if w not in stopwords.words(\"english\")]\n",
        "  words = [PorterStemmer().stem(w) for w in words]\n",
        "  return words\n",
        "\n",
        "print(\"\\nOriginal tweet ->\", df['clean_text'][0])\n",
        "print(\"\\nProcessed tweet ->\", tweet_to_words(df['clean_text'][0]))"
      ],
      "execution_count": null,
      "outputs": [
        {
          "output_type": "stream",
          "text": [
            "\n",
            "Original tweet -> when modi promised “minimum government maximum governance” expected him begin the difficult job reforming the state why does take years get justice state should and not business and should exit psus and temples\n",
            "\n",
            "Processed tweet -> ['modi', 'promis', 'minimum', 'govern', 'maximum', 'govern', 'expect', 'begin', 'difficult', 'job', 'reform', 'state', 'take', 'year', 'get', 'justic', 'state', 'busi', 'exit', 'psu', 'templ']\n"
          ],
          "name": "stdout"
        }
      ]
    },
    {
      "cell_type": "code",
      "metadata": {
        "id": "NP5F4tnI7v0t"
      },
      "source": [
        "X = list(map(tweet_to_words, df['clean_text']))"
      ],
      "execution_count": null,
      "outputs": []
    },
    {
      "cell_type": "code",
      "metadata": {
        "id": "gZH6T_yj7z83"
      },
      "source": [
        "le = LabelEncoder()\n",
        "Y = le.fit_transform(df['category'])"
      ],
      "execution_count": null,
      "outputs": []
    },
    {
      "cell_type": "code",
      "metadata": {
        "colab": {
          "base_uri": "https://localhost:8080/"
        },
        "id": "pNJtxW-f71Im",
        "outputId": "35de235a-177e-4c33-86b9-8401a23c8314"
      },
      "source": [
        "print(X[0])\n",
        "print(Y[0])"
      ],
      "execution_count": null,
      "outputs": [
        {
          "output_type": "stream",
          "text": [
            "['modi', 'promis', 'minimum', 'govern', 'maximum', 'govern', 'expect', 'begin', 'difficult', 'job', 'reform', 'state', 'take', 'year', 'get', 'justic', 'state', 'busi', 'exit', 'psu', 'templ']\n",
            "0\n"
          ],
          "name": "stdout"
        }
      ]
    },
    {
      "cell_type": "code",
      "metadata": {
        "id": "c3noHqtl73n7"
      },
      "source": [
        "y = pd.get_dummies(df['category'])\n",
        "X_train, X_test, y_train, y_test = train_test_split(X, y, test_size=0.2, random_state=1)\n",
        "X_train, X_val, y_train, y_val = train_test_split(X_train, y_train, test_size=0.2, random_state=1)"
      ],
      "execution_count": null,
      "outputs": []
    },
    {
      "cell_type": "code",
      "metadata": {
        "id": "3RSYpUS78IRi"
      },
      "source": [
        "vocabulary_size = 5000\n",
        "\n",
        "count_vector = CountVectorizer(max_features=vocabulary_size,\n",
        "                               preprocessor=lambda x: x,\n",
        "                               tokenizer=lambda x: x) \n",
        "\n",
        "X_train = count_vector.fit_transform(X_train).toarray()\n",
        "\n",
        "X_test = count_vector.transform(X_test).toarray()"
      ],
      "execution_count": null,
      "outputs": []
    },
    {
      "cell_type": "code",
      "metadata": {
        "colab": {
          "base_uri": "https://localhost:8080/"
        },
        "id": "oQSpb0to8gIg",
        "outputId": "87f50726-da46-4aa8-9c55-c98d5c5a93e5"
      },
      "source": [
        "print(count_vector.get_feature_names()[0:200])"
      ],
      "execution_count": null,
      "outputs": [
        {
          "output_type": "stream",
          "text": [
            "['0', '000', '1', '10', '100', '1000', '10000', '10th', '11', '111', '1145', '11th', '12', '1200', '12000', '125', '12k', '130', '140', '14000', '15', '150', '1500', '1500000', '1520', '157200000', '15l', '15lac', '15lakh', '180', '19', '1947', '1958', '1962', '1969', '1971', '1980', '1984', '1998', '1st', '2', '20', '200', '2000', '2002', '2004', '2007', '2008', '2009', '2010', '2011', '2012', '201213', '2013', '2014', '2015', '2016', '2017', '2018', '2019', '2020', '2022', '2024', '2029', '21st', '23', '23rd', '24', '247', '24x7', '25', '250', '2611', '26th', '272', '27th', '280319', '282', '28th', '2cr', '2day', '2nd', '3', '30', '300', '3000', '30000', '300km', '31st', '350', '35a', '370', '3rd', '4', '40', '400', '4000', '45', '456', '4th', '5', '50', '500', '5000', '50000', '5th', '5year', '5yr', '6', '60', '600', '6000', '6th', '7', '700', '72000', '7200000', '72k', '7th', '8', '80', '800', '8020', '9', '90', '9000', 'aa', 'aadhaar', 'aadhar', 'aadmi', 'aag', 'aaj', 'aalo', 'aam', 'aan', 'aap', 'aapk', 'aapko', 'aapl', 'aapn', 'aay', 'aaya', 'aayega', 'aayog', 'abandon', 'abdul', 'abdullah', 'abe', 'abhi', 'abhinandan', 'abhisar', 'abhiyan', 'abil', 'abki', 'abl', 'abolish', 'abp', 'abroad', 'abscond', 'absolut', 'absurd', 'abt', 'abus', 'abv', 'academ', 'acc', 'accept', 'access', 'acch', 'accha', 'accid', 'accident', 'accommod', 'accompani', 'accomplish', 'accord', 'accordingli', 'account', 'accumul', 'accur', 'accus', 'ach', 'acha', 'acheiv', 'achh', 'achiev', 'achiv', 'acknowledg', 'acquir', 'acquit', 'acronym', 'across', 'act', 'action', 'activ', 'activist', 'actor', 'actress', 'actual', 'ad']\n"
          ],
          "name": "stdout"
        }
      ]
    },
    {
      "cell_type": "code",
      "metadata": {
        "colab": {
          "base_uri": "https://localhost:8080/"
        },
        "id": "XYvGmi3k8n2Q",
        "outputId": "6d9d1e27-b283-457a-fd35-799c508dbcf4"
      },
      "source": [
        "max_words = 5000\n",
        "max_len=50\n",
        "\n",
        "def tokenize_pad_sequences(text):\n",
        "  tokenizer = Tokenizer(num_words=max_words, lower=True, split=' ')\n",
        "  tokenizer.fit_on_texts(text)\n",
        "  X = tokenizer.texts_to_sequences(text)\n",
        "  X = pad_sequences(X, padding='post', maxlen=max_len)\n",
        "  return X, tokenizer\n",
        "\n",
        "print('Before Tokenization & Padding \\n', df['clean_text'][0])\n",
        "X, tokenizer = tokenize_pad_sequences(df['clean_text'])\n",
        "print('After Tokenization & Padding \\n', X[0])"
      ],
      "execution_count": null,
      "outputs": [
        {
          "output_type": "stream",
          "text": [
            "Before Tokenization & Padding \n",
            " when modi promised “minimum government maximum governance” expected him begin the difficult job reforming the state why does take years get justice state should and not business and should exit psus and temples\n",
            "After Tokenization & Padding \n",
            " [  41    1  349   73 1911 1180   44 2465    2 1259  219    2  236   32\n",
            "  165  102   53   55 1184  236   50    3    6  533    3   50 3833    3\n",
            " 3077    0    0    0    0    0    0    0    0    0    0    0    0    0\n",
            "    0    0    0    0    0    0    0    0]\n"
          ],
          "name": "stdout"
        }
      ]
    },
    {
      "cell_type": "code",
      "metadata": {
        "id": "y9Pn2Yu-8vm6"
      },
      "source": [
        "with open('tokenizer.pickle', 'wb') as handle:\n",
        "  pickle.dump(tokenizer, handle, protocol=pickle.HIGHEST_PROTOCOL)\n",
        "\n",
        "with open('tokenizer.pickle', 'rb') as handle:\n",
        "  tokenizer = pickle.load(handle)"
      ],
      "execution_count": null,
      "outputs": []
    },
    {
      "cell_type": "code",
      "metadata": {
        "id": "u4j2IL9nnX2C",
        "colab": {
          "base_uri": "https://localhost:8080/"
        },
        "outputId": "b419aa88-7ba2-4937-fe6c-edd8540d0241"
      },
      "source": [
        "y = pd.get_dummies(df['category'])\n",
        "X_train, X_test, y_train, y_test = train_test_split(X, y, test_size=0.2, random_state=1)\n",
        "X_train, X_val, y_train, y_val = train_test_split(X_train, y_train, test_size=0.2, random_state=1)\n",
        "\n",
        "print('Train Set ->', X_train.shape, y_train.shape)\n",
        "print('Validation Set ->', X_val.shape, y_val.shape)\n",
        "print('Test Set ->', X_test.shape, y_test.shape)"
      ],
      "execution_count": null,
      "outputs": [
        {
          "output_type": "stream",
          "text": [
            "Train Set -> (116690, 50) (116690, 3)\n",
            "Validation Set -> (29173, 50) (29173, 3)\n",
            "Test Set -> (36466, 50) (36466, 3)\n"
          ],
          "name": "stdout"
        }
      ]
    },
    {
      "cell_type": "code",
      "metadata": {
        "colab": {
          "base_uri": "https://localhost:8080/"
        },
        "id": "lo8NJaEm9hG_",
        "outputId": "ce7dbb7b-1ffb-4fe9-fe26-c5d6002322cc"
      },
      "source": [
        "vocab_size = 5000\n",
        "embedding_size = 32\n",
        "epochs = 30\n",
        "learning_rate = 0.1\n",
        "decay_rate = learning_rate / epochs\n",
        "momentum = 0.8\n",
        "\n",
        "sgd = SGD(lr=learning_rate, momentum=momentum, decay=decay_rate, nesterov=False)"
      ],
      "execution_count": null,
      "outputs": [
        {
          "output_type": "stream",
          "text": [
            "/usr/local/lib/python3.7/dist-packages/tensorflow/python/keras/optimizer_v2/optimizer_v2.py:375: UserWarning: The `lr` argument is deprecated, use `learning_rate` instead.\n",
            "  \"The `lr` argument is deprecated, use `learning_rate` instead.\")\n"
          ],
          "name": "stderr"
        }
      ]
    },
    {
      "cell_type": "code",
      "metadata": {
        "id": "UOWEQG_v9mm0"
      },
      "source": [
        "model= Sequential()\n",
        "model.add(Embedding(vocab_size, embedding_size, input_length=max_len))\n",
        "model.add(Conv1D(filters=32, kernel_size=3, padding='same', activation='relu'))\n",
        "model.add(MaxPooling1D(pool_size=2))\n",
        "model.add(Bidirectional(LSTM(32)))\n",
        "model.add(Dropout(0.4))\n",
        "model.add(Dense(3, activation='softmax'))"
      ],
      "execution_count": null,
      "outputs": []
    },
    {
      "cell_type": "code",
      "metadata": {
        "id": "qDHrsjdv_dgQ"
      },
      "source": [
        "class myCallback(tf.keras.callbacks.Callback):\n",
        "  def on_epoch_end(self, epoch, logs={}):\n",
        "    if(logs.get('accuracy')>0.91 and logs.get('val_accuracy')>0.91):\n",
        "      print(\"\\nAccuracy & Validation Accuracy Di Atas 91%\")\n",
        "      self.model.stop_training = True\n",
        "\n",
        "callbacks = myCallback()"
      ],
      "execution_count": null,
      "outputs": []
    },
    {
      "cell_type": "code",
      "metadata": {
        "colab": {
          "base_uri": "https://localhost:8080/"
        },
        "id": "UAtTHGe29twk",
        "outputId": "54a427ec-4876-400a-a5a0-0b20df9eeb20"
      },
      "source": [
        "print(model.summary())\n",
        "\n",
        "model.compile(loss='categorical_crossentropy', optimizer=sgd, metrics=['accuracy'])\n",
        "\n",
        "batch_size = 64\n",
        "history = model.fit(X_train, y_train,\n",
        "                    validation_data=(X_val, y_val),\n",
        "                    batch_size=batch_size, epochs=epochs, verbose=1,  callbacks=[callbacks])"
      ],
      "execution_count": null,
      "outputs": [
        {
          "output_type": "stream",
          "text": [
            "Model: \"sequential\"\n",
            "_________________________________________________________________\n",
            "Layer (type)                 Output Shape              Param #   \n",
            "=================================================================\n",
            "embedding (Embedding)        (None, 50, 32)            160000    \n",
            "_________________________________________________________________\n",
            "conv1d (Conv1D)              (None, 50, 32)            3104      \n",
            "_________________________________________________________________\n",
            "max_pooling1d (MaxPooling1D) (None, 25, 32)            0         \n",
            "_________________________________________________________________\n",
            "bidirectional (Bidirectional (None, 64)                16640     \n",
            "_________________________________________________________________\n",
            "dropout (Dropout)            (None, 64)                0         \n",
            "_________________________________________________________________\n",
            "dense (Dense)                (None, 3)                 195       \n",
            "=================================================================\n",
            "Total params: 179,939\n",
            "Trainable params: 179,939\n",
            "Non-trainable params: 0\n",
            "_________________________________________________________________\n",
            "None\n",
            "Epoch 1/30\n",
            "1824/1824 [==============================] - 69s 9ms/step - loss: 1.0045 - accuracy: 0.4917 - val_loss: 0.8038 - val_accuracy: 0.6204\n",
            "Epoch 2/30\n",
            "1824/1824 [==============================] - 15s 8ms/step - loss: 0.7062 - accuracy: 0.6872 - val_loss: 0.4656 - val_accuracy: 0.8372\n",
            "Epoch 3/30\n",
            "1824/1824 [==============================] - 15s 8ms/step - loss: 0.4431 - accuracy: 0.8549 - val_loss: 0.3397 - val_accuracy: 0.8978\n",
            "Epoch 4/30\n",
            "1824/1824 [==============================] - 15s 8ms/step - loss: 0.3460 - accuracy: 0.8970 - val_loss: 0.3097 - val_accuracy: 0.9074\n",
            "Epoch 5/30\n",
            "1824/1824 [==============================] - 15s 8ms/step - loss: 0.3089 - accuracy: 0.9098 - val_loss: 0.2932 - val_accuracy: 0.9134\n",
            "Epoch 6/30\n",
            "1824/1824 [==============================] - 15s 8ms/step - loss: 0.2950 - accuracy: 0.9150 - val_loss: 0.2856 - val_accuracy: 0.9170\n",
            "\n",
            "Accuracy & Validation Accuracy Di Atas 91%\n"
          ],
          "name": "stdout"
        }
      ]
    },
    {
      "cell_type": "code",
      "metadata": {
        "id": "SQAyorXU-ymQ",
        "colab": {
          "base_uri": "https://localhost:8080/",
          "height": 295
        },
        "outputId": "ddc00f2e-0494-4816-9f3d-2c555563f309"
      },
      "source": [
        "def plot_training_hist(history):\n",
        "  fig, ax = plt.subplots(1, 2, figsize=(10,4))\n",
        "  \n",
        "  ax[0].plot(history.history['accuracy'])\n",
        "  ax[0].plot(history.history['val_accuracy'])\n",
        "  ax[0].set_title('Model Accuracy')\n",
        "  ax[0].set_xlabel('epoch')\n",
        "  ax[0].set_ylabel('accuracy')\n",
        "  ax[0].legend(['train', 'validation'], loc='best')\n",
        "  \n",
        "  ax[1].plot(history.history['loss'])\n",
        "  ax[1].plot(history.history['val_loss'])\n",
        "  ax[1].set_title('Model Loss')\n",
        "  ax[1].set_xlabel('epoch')\n",
        "  ax[1].set_ylabel('loss')\n",
        "  ax[1].legend(['train', 'validation'], loc='best')\n",
        "    \n",
        "plot_training_hist(history)"
      ],
      "execution_count": null,
      "outputs": [
        {
          "output_type": "display_data",
          "data": {
            "image/png": "[encoded data removed]",
            "text/plain": [
              "<Figure size 720x288 with 2 Axes>"
            ]
          },
          "metadata": {
            "tags": [],
            "needs_background": "light"
          }
        }
      ]
    }
  ]
}