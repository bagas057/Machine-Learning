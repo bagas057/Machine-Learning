{
  "nbformat": 4,
  "nbformat_minor": 0,
  "metadata": {
    "accelerator": "GPU",
    "colab": {
      "name": "Bagas_Pratama_Submission_2.ipynb",
      "provenance": [],
      "collapsed_sections": []
    },
    "kernelspec": {
      "display_name": "Python 3",
      "name": "python3"
    },
    "language_info": {
      "name": "python"
    }
  },
  "cells": [
    {
      "cell_type": "code",
      "metadata": {
        "id": "MwBl-CvNUXfX"
      },
      "source": [
        "!pip install -q kaggle"
      ],
      "execution_count": null,
      "outputs": []
    },
    {
      "cell_type": "code",
      "metadata": {
        "id": "uKMPa2r1xtkY"
      },
      "source": [
        "from google.colab import files\n",
        "files.upload()"
      ],
      "execution_count": null,
      "outputs": []
    },
    {
      "cell_type": "code",
      "metadata": {
        "colab": {
          "base_uri": "https://localhost:8080/"
        },
        "id": "fY_xeQSXJlvg",
        "outputId": "3093a34b-b65a-4b2a-80d3-c49aaf3745b4"
      },
      "source": [
        "!mkdir -p ~/.kaggle\n",
        "!cp kaggle.json ~/.kaggle/\n",
        "!chmod 600 ~/.kaggle/kaggle.json\n",
        "!ls ~/.kaggle"
      ],
      "execution_count": null,
      "outputs": [
        {
          "output_type": "stream",
          "text": [
            "kaggle.json\n"
          ],
          "name": "stdout"
        }
      ]
    },
    {
      "cell_type": "code",
      "metadata": {
        "colab": {
          "base_uri": "https://localhost:8080/"
        },
        "id": "sebVHAbjJoVm",
        "outputId": "57b3e170-1abe-4ae9-d381-7ed542b49998"
      },
      "source": [
        "!kaggle datasets download -d icarofreire/dollar-prices-and-infos"
      ],
      "execution_count": null,
      "outputs": [
        {
          "output_type": "stream",
          "text": [
            "Downloading dollar-prices-and-infos.zip to /content\n",
            "\r  0% 0.00/1.29M [00:00<?, ?B/s]\n",
            "\r100% 1.29M/1.29M [00:00<00:00, 86.8MB/s]\n"
          ],
          "name": "stdout"
        }
      ]
    },
    {
      "cell_type": "code",
      "metadata": {
        "colab": {
          "base_uri": "https://localhost:8080/"
        },
        "id": "KUADNir5KqNB",
        "outputId": "9fc7883f-29d3-497e-b36d-fb3b9b7c994c"
      },
      "source": [
        "!mkdir dollar-prices-and-infos.zip\n",
        "!unzip dollar-prices-and-infos.zip -d dollar-prices-and-infos\n",
        "!ls dollar-prices-and-infos"
      ],
      "execution_count": null,
      "outputs": [
        {
          "output_type": "stream",
          "text": [
            "mkdir: cannot create directory ‘dollar-prices-and-infos.zip’: File exists\n",
            "Archive:  dollar-prices-and-infos.zip\n",
            "  inflating: dollar-prices-and-infos/database_15min.csv  \n",
            "database_15min.csv\n"
          ],
          "name": "stdout"
        }
      ]
    },
    {
      "cell_type": "code",
      "metadata": {
        "id": "pm7_2NidLQ4z"
      },
      "source": [
        "import pandas as pd\n",
        "import numpy as np \n",
        "import tensorflow as tf\n",
        "from sklearn.preprocessing import MinMaxScaler\n",
        "from keras.models import Sequential\n",
        "from keras.layers import LSTM, Dense, Dropout\n",
        "from sklearn.model_selection import train_test_split"
      ],
      "execution_count": null,
      "outputs": []
    },
    {
      "cell_type": "code",
      "metadata": {
        "colab": {
          "base_uri": "https://localhost:8080/",
          "height": 475
        },
        "id": "HexXjXMHJ3Ks",
        "outputId": "69a63c20-5f06-485f-f499-b816ab2a9eeb"
      },
      "source": [
        "df = pd.read_csv('/content/dollar-prices-and-infos/database_15min.csv')\n",
        "\n",
        "df.set_axis(['Date', 'Open', 'Max', 'Min', 'Close', 'Volume', 'fin', 'negociation', 'mme13', 'mme72', 'high_mean', 'low_mean', 'diffmacd', 'deamacd', 'macdlh', 'difflh', 'dealh', 'Result'], axis=1, inplace=True)\n",
        "\n",
        "df.head(5)"
      ],
      "execution_count": null,
      "outputs": [
        {
          "output_type": "execute_result",
          "data": {
            "text/html": [
              "<div>\n",
              "<style scoped>\n",
              "    .dataframe tbody tr th:only-of-type {\n",
              "        vertical-align: middle;\n",
              "    }\n",
              "\n",
              "    .dataframe tbody tr th {\n",
              "        vertical-align: top;\n",
              "    }\n",
              "\n",
              "    .dataframe thead th {\n",
              "        text-align: right;\n",
              "    }\n",
              "</style>\n",
              "<table border=\"1\" class=\"dataframe\">\n",
              "  <thead>\n",
              "    <tr style=\"text-align: right;\">\n",
              "      <th></th>\n",
              "      <th>Date</th>\n",
              "      <th>Open</th>\n",
              "      <th>Max</th>\n",
              "      <th>Min</th>\n",
              "      <th>Close</th>\n",
              "      <th>Volume</th>\n",
              "      <th>fin</th>\n",
              "      <th>negociation</th>\n",
              "      <th>mme13</th>\n",
              "      <th>mme72</th>\n",
              "      <th>high_mean</th>\n",
              "      <th>low_mean</th>\n",
              "      <th>diffmacd</th>\n",
              "      <th>deamacd</th>\n",
              "      <th>macdlh</th>\n",
              "      <th>difflh</th>\n",
              "      <th>dealh</th>\n",
              "      <th>Result</th>\n",
              "    </tr>\n",
              "  </thead>\n",
              "  <tbody>\n",
              "    <tr>\n",
              "      <th>0</th>\n",
              "      <td>21-11-19 09:04</td>\n",
              "      <td>4206.5</td>\n",
              "      <td>4206.5</td>\n",
              "      <td>4205.0</td>\n",
              "      <td>4205.5</td>\n",
              "      <td>4451</td>\n",
              "      <td>187200190.0</td>\n",
              "      <td>1175</td>\n",
              "      <td>4202.1</td>\n",
              "      <td>4202.5</td>\n",
              "      <td>4202.9</td>\n",
              "      <td>4201.3</td>\n",
              "      <td>-0.304</td>\n",
              "      <td>-0.136</td>\n",
              "      <td>0.459</td>\n",
              "      <td>-0.090</td>\n",
              "      <td>-0.320</td>\n",
              "      <td>4201.0</td>\n",
              "    </tr>\n",
              "    <tr>\n",
              "      <th>1</th>\n",
              "      <td>21-11-19 09:05</td>\n",
              "      <td>4205.5</td>\n",
              "      <td>4206.5</td>\n",
              "      <td>4203.0</td>\n",
              "      <td>4204.5</td>\n",
              "      <td>6515</td>\n",
              "      <td>273933345.0</td>\n",
              "      <td>1627</td>\n",
              "      <td>4202.5</td>\n",
              "      <td>4202.5</td>\n",
              "      <td>4203.1</td>\n",
              "      <td>4201.4</td>\n",
              "      <td>-0.099</td>\n",
              "      <td>-0.134</td>\n",
              "      <td>0.679</td>\n",
              "      <td>0.105</td>\n",
              "      <td>-0.235</td>\n",
              "      <td>4199.0</td>\n",
              "    </tr>\n",
              "    <tr>\n",
              "      <th>2</th>\n",
              "      <td>21-11-19 09:06</td>\n",
              "      <td>4204.5</td>\n",
              "      <td>4204.5</td>\n",
              "      <td>4203.0</td>\n",
              "      <td>4203.5</td>\n",
              "      <td>2751</td>\n",
              "      <td>115640535.0</td>\n",
              "      <td>801</td>\n",
              "      <td>4202.6</td>\n",
              "      <td>4202.5</td>\n",
              "      <td>4203.1</td>\n",
              "      <td>4201.4</td>\n",
              "      <td>-0.005</td>\n",
              "      <td>-0.127</td>\n",
              "      <td>0.658</td>\n",
              "      <td>0.176</td>\n",
              "      <td>-0.153</td>\n",
              "      <td>4201.0</td>\n",
              "    </tr>\n",
              "    <tr>\n",
              "      <th>3</th>\n",
              "      <td>21-11-19 09:07</td>\n",
              "      <td>4203.0</td>\n",
              "      <td>4204.0</td>\n",
              "      <td>4202.0</td>\n",
              "      <td>4202.5</td>\n",
              "      <td>3360</td>\n",
              "      <td>141218695.0</td>\n",
              "      <td>1038</td>\n",
              "      <td>4202.6</td>\n",
              "      <td>4202.5</td>\n",
              "      <td>4203.1</td>\n",
              "      <td>4201.4</td>\n",
              "      <td>-0.007</td>\n",
              "      <td>-0.120</td>\n",
              "      <td>0.486</td>\n",
              "      <td>0.151</td>\n",
              "      <td>-0.092</td>\n",
              "      <td>4207.0</td>\n",
              "    </tr>\n",
              "    <tr>\n",
              "      <th>4</th>\n",
              "      <td>21-11-19 09:08</td>\n",
              "      <td>4202.0</td>\n",
              "      <td>4203.0</td>\n",
              "      <td>4201.5</td>\n",
              "      <td>4202.0</td>\n",
              "      <td>2545</td>\n",
              "      <td>106941715.0</td>\n",
              "      <td>900</td>\n",
              "      <td>4202.5</td>\n",
              "      <td>4202.5</td>\n",
              "      <td>4203.1</td>\n",
              "      <td>4201.4</td>\n",
              "      <td>-0.051</td>\n",
              "      <td>-0.116</td>\n",
              "      <td>0.290</td>\n",
              "      <td>0.089</td>\n",
              "      <td>-0.056</td>\n",
              "      <td>4211.0</td>\n",
              "    </tr>\n",
              "  </tbody>\n",
              "</table>\n",
              "</div>"
            ],
            "text/plain": [
              "             Date    Open     Max     Min  ...  macdlh  difflh  dealh  Result\n",
              "0  21-11-19 09:04  4206.5  4206.5  4205.0  ...   0.459  -0.090 -0.320  4201.0\n",
              "1  21-11-19 09:05  4205.5  4206.5  4203.0  ...   0.679   0.105 -0.235  4199.0\n",
              "2  21-11-19 09:06  4204.5  4204.5  4203.0  ...   0.658   0.176 -0.153  4201.0\n",
              "3  21-11-19 09:07  4203.0  4204.0  4202.0  ...   0.486   0.151 -0.092  4207.0\n",
              "4  21-11-19 09:08  4202.0  4203.0  4201.5  ...   0.290   0.089 -0.056  4211.0\n",
              "\n",
              "[5 rows x 18 columns]"
            ]
          },
          "metadata": {
            "tags": []
          },
          "execution_count": 7
        }
      ]
    },
    {
      "cell_type": "code",
      "metadata": {
        "colab": {
          "base_uri": "https://localhost:8080/"
        },
        "id": "KZWLI8jdLeyP",
        "outputId": "196bc081-4089-4279-fe2d-94b2f01bf629"
      },
      "source": [
        "df.shape"
      ],
      "execution_count": null,
      "outputs": [
        {
          "output_type": "execute_result",
          "data": {
            "text/plain": [
              "(33077, 18)"
            ]
          },
          "metadata": {
            "tags": []
          },
          "execution_count": 8
        }
      ]
    },
    {
      "cell_type": "code",
      "metadata": {
        "colab": {
          "base_uri": "https://localhost:8080/"
        },
        "id": "4FD7ZzCnLikY",
        "outputId": "e2857976-8562-4718-ea12-b6e3e05e29e1"
      },
      "source": [
        "df.info()"
      ],
      "execution_count": null,
      "outputs": [
        {
          "output_type": "stream",
          "text": [
            "<class 'pandas.core.frame.DataFrame'>\n",
            "RangeIndex: 33077 entries, 0 to 33076\n",
            "Data columns (total 18 columns):\n",
            " #   Column       Non-Null Count  Dtype  \n",
            "---  ------       --------------  -----  \n",
            " 0   Date         33077 non-null  object \n",
            " 1   Open         33077 non-null  float64\n",
            " 2   Max          33077 non-null  float64\n",
            " 3   Min          33077 non-null  float64\n",
            " 4   Close        33077 non-null  float64\n",
            " 5   Volume       33077 non-null  int64  \n",
            " 6   fin          33077 non-null  float64\n",
            " 7   negociation  33077 non-null  int64  \n",
            " 8   mme13        33077 non-null  float64\n",
            " 9   mme72        33077 non-null  float64\n",
            " 10  high_mean    33077 non-null  float64\n",
            " 11  low_mean     33077 non-null  float64\n",
            " 12  diffmacd     33077 non-null  float64\n",
            " 13  deamacd      33077 non-null  float64\n",
            " 14  macdlh       33077 non-null  float64\n",
            " 15  difflh       33077 non-null  float64\n",
            " 16  dealh        33077 non-null  float64\n",
            " 17  Result       33077 non-null  float64\n",
            "dtypes: float64(15), int64(2), object(1)\n",
            "memory usage: 4.5+ MB\n"
          ],
          "name": "stdout"
        }
      ]
    },
    {
      "cell_type": "code",
      "metadata": {
        "colab": {
          "base_uri": "https://localhost:8080/"
        },
        "id": "F1yWpCzri1Vi",
        "outputId": "d75c573a-0beb-4faf-e2ea-8c0cd3ca7ed6"
      },
      "source": [
        "df.isna().sum()"
      ],
      "execution_count": null,
      "outputs": [
        {
          "output_type": "execute_result",
          "data": {
            "text/plain": [
              "Date           0\n",
              "Open           0\n",
              "Max            0\n",
              "Min            0\n",
              "Close          0\n",
              "Volume         0\n",
              "fin            0\n",
              "negociation    0\n",
              "mme13          0\n",
              "mme72          0\n",
              "high_mean      0\n",
              "low_mean       0\n",
              "diffmacd       0\n",
              "deamacd        0\n",
              "macdlh         0\n",
              "difflh         0\n",
              "dealh          0\n",
              "Result         0\n",
              "dtype: int64"
            ]
          },
          "metadata": {
            "tags": []
          },
          "execution_count": 10
        }
      ]
    },
    {
      "cell_type": "code",
      "metadata": {
        "colab": {
          "base_uri": "https://localhost:8080/"
        },
        "id": "m3R83-SNa0GY",
        "outputId": "b02a396d-12cf-45d8-b289-60374904f1b0"
      },
      "source": [
        "# scaling the data of the open price\n",
        "from sklearn.preprocessing import MinMaxScaler\n",
        "sc = MinMaxScaler(feature_range=(0,1))\n",
        "sc_open = sc.fit_transform(df[['Open']].values.reshape(-1,1))\n",
        "print (sc_open)\n",
        "print (sc_open.shape)"
      ],
      "execution_count": null,
      "outputs": [
        {
          "output_type": "stream",
          "text": [
            "[[0.13338891]\n",
            " [0.13255523]\n",
            " [0.13172155]\n",
            " ...\n",
            " [0.95956649]\n",
            " [0.95956649]\n",
            " [0.95956649]]\n",
            "(33077, 1)\n"
          ],
          "name": "stdout"
        }
      ]
    },
    {
      "cell_type": "code",
      "metadata": {
        "id": "a79hZMfcasCj"
      },
      "source": [
        "# define the function split the dataset (80% train, 20% test)\n",
        "def split_dataset(sc_data):\n",
        "    train_size = int(len(sc_data)*0.8)\n",
        "    test_size = len(sc_data)-train_size\n",
        "    train_data = sc_data[0:train_size,:]\n",
        "    test_data = sc_data[train_size:len(sc_data),:1]\n",
        "    return train_size, test_size, train_data, test_data"
      ],
      "execution_count": null,
      "outputs": []
    },
    {
      "cell_type": "code",
      "metadata": {
        "id": "PFwSfiB1pBaT"
      },
      "source": [
        "train_size, test_size, train_data, test_data = split_dataset(sc_open)"
      ],
      "execution_count": null,
      "outputs": []
    },
    {
      "cell_type": "code",
      "metadata": {
        "colab": {
          "base_uri": "https://localhost:8080/"
        },
        "id": "fs2XQJRWZ-6_",
        "outputId": "f7ad17fc-8065-41b2-9e2b-106cf77bef9c"
      },
      "source": [
        "train_data.shape"
      ],
      "execution_count": null,
      "outputs": [
        {
          "output_type": "execute_result",
          "data": {
            "text/plain": [
              "(26461, 1)"
            ]
          },
          "metadata": {
            "tags": []
          },
          "execution_count": 14
        }
      ]
    },
    {
      "cell_type": "code",
      "metadata": {
        "id": "5Z9aCqPXYqXX",
        "colab": {
          "base_uri": "https://localhost:8080/"
        },
        "outputId": "376e7989-3c58-43bf-8519-5dc9e09cec87"
      },
      "source": [
        "test_data.shape"
      ],
      "execution_count": null,
      "outputs": [
        {
          "output_type": "execute_result",
          "data": {
            "text/plain": [
              "(6616, 1)"
            ]
          },
          "metadata": {
            "tags": []
          },
          "execution_count": 15
        }
      ]
    },
    {
      "cell_type": "code",
      "metadata": {
        "id": "eknn111S7c7B"
      },
      "source": [
        "# define the function to create train and test dataset\n",
        "def create_dataset(data, timestamp=1):\n",
        "    x_dataset = []\n",
        "    y_dataset = []\n",
        "    for i in range(len(data)-timestamp-1):\n",
        "        x_dataset.append(data[i:(i+timestamp), 0])\n",
        "        y_dataset.append(data[timestamp+i,0])\n",
        "    return np.array(x_dataset), np.array(y_dataset)"
      ],
      "execution_count": null,
      "outputs": []
    },
    {
      "cell_type": "code",
      "metadata": {
        "id": "KCPlLRSk7psS"
      },
      "source": [
        "# set timestamp to be 100 for training\n",
        "timestamp = 100\n",
        "# create the train and test dataset of open price\n",
        "x_train, y_train = create_dataset(train_data, timestamp)\n",
        "x_test, y_test = create_dataset(test_data, timestamp)"
      ],
      "execution_count": null,
      "outputs": []
    },
    {
      "cell_type": "code",
      "metadata": {
        "colab": {
          "base_uri": "https://localhost:8080/"
        },
        "id": "DwDRs5J17vqo",
        "outputId": "5b97d54a-9efa-4f4f-b004-c2a7f8cf3605"
      },
      "source": [
        "x_train.shape, y_train.shape"
      ],
      "execution_count": null,
      "outputs": [
        {
          "output_type": "execute_result",
          "data": {
            "text/plain": [
              "((26360, 100), (26360,))"
            ]
          },
          "metadata": {
            "tags": []
          },
          "execution_count": 18
        }
      ]
    },
    {
      "cell_type": "code",
      "metadata": {
        "colab": {
          "base_uri": "https://localhost:8080/"
        },
        "id": "14eskLSs7xN_",
        "outputId": "a19a6bba-a353-4373-f900-0bdf58401b92"
      },
      "source": [
        "x_test.shape, y_test.shape"
      ],
      "execution_count": null,
      "outputs": [
        {
          "output_type": "execute_result",
          "data": {
            "text/plain": [
              "((6515, 100), (6515,))"
            ]
          },
          "metadata": {
            "tags": []
          },
          "execution_count": 19
        }
      ]
    },
    {
      "cell_type": "code",
      "metadata": {
        "id": "pgmoC6yZ75Pt"
      },
      "source": [
        "# define a function to reshape the dataset for using LSTM\n",
        "def reshape_data(x_train, x_test):\n",
        "    x_train = x_train.reshape(x_train.shape[0],x_train.shape[1],1)\n",
        "    x_test = x_test.reshape(x_test.shape[0],x_test.shape[1],1)\n",
        "    return x_train, x_test"
      ],
      "execution_count": null,
      "outputs": []
    },
    {
      "cell_type": "code",
      "metadata": {
        "id": "WWIF9ySk7_JQ"
      },
      "source": [
        "# reshape the dataset of the open price\n",
        "x_train, x_test = reshape_data(x_train, x_test)"
      ],
      "execution_count": null,
      "outputs": []
    },
    {
      "cell_type": "code",
      "metadata": {
        "id": "oHcmIuF08IAn"
      },
      "source": [
        "def lstm_model():\n",
        "    model = Sequential()\n",
        "    model.add(LSTM(units = 50, return_sequences = True, input_shape = (100,1)))\n",
        "    model.add(Dropout(0.2))\n",
        "    model.add(LSTM(units = 50, return_sequences = True))\n",
        "    model.add(Dropout(0.2))\n",
        "    model.add(LSTM(units = 50))\n",
        "    model.add(Dropout(0.2))\n",
        "    model.add(Dense(1))\n",
        "    return model    "
      ],
      "execution_count": null,
      "outputs": []
    },
    {
      "cell_type": "code",
      "metadata": {
        "colab": {
          "base_uri": "https://localhost:8080/"
        },
        "id": "XHkpnbvY8T2q",
        "outputId": "12bcda52-fa8f-42bd-804a-cd6fa95fd961"
      },
      "source": [
        "model = lstm_model()\n",
        "optimizer = tf.keras.optimizers.SGD(lr=1.0000e-04, momentum=0.9)\n",
        "model.compile(loss=tf.keras.losses.Huber(),\n",
        "              optimizer=optimizer,\n",
        "              metrics=[\"mae\"])\n",
        "model.summary()"
      ],
      "execution_count": null,
      "outputs": [
        {
          "output_type": "stream",
          "text": [
            "Model: \"sequential\"\n",
            "_________________________________________________________________\n",
            "Layer (type)                 Output Shape              Param #   \n",
            "=================================================================\n",
            "lstm (LSTM)                  (None, 100, 50)           10400     \n",
            "_________________________________________________________________\n",
            "dropout (Dropout)            (None, 100, 50)           0         \n",
            "_________________________________________________________________\n",
            "lstm_1 (LSTM)                (None, 100, 50)           20200     \n",
            "_________________________________________________________________\n",
            "dropout_1 (Dropout)          (None, 100, 50)           0         \n",
            "_________________________________________________________________\n",
            "lstm_2 (LSTM)                (None, 50)                20200     \n",
            "_________________________________________________________________\n",
            "dropout_2 (Dropout)          (None, 50)                0         \n",
            "_________________________________________________________________\n",
            "dense (Dense)                (None, 1)                 51        \n",
            "=================================================================\n",
            "Total params: 50,851\n",
            "Trainable params: 50,851\n",
            "Non-trainable params: 0\n",
            "_________________________________________________________________\n"
          ],
          "name": "stdout"
        },
        {
          "output_type": "stream",
          "text": [
            "/usr/local/lib/python3.7/dist-packages/tensorflow/python/keras/optimizer_v2/optimizer_v2.py:375: UserWarning: The `lr` argument is deprecated, use `learning_rate` instead.\n",
            "  \"The `lr` argument is deprecated, use `learning_rate` instead.\")\n"
          ],
          "name": "stderr"
        }
      ]
    },
    {
      "cell_type": "code",
      "metadata": {
        "colab": {
          "base_uri": "https://localhost:8080/"
        },
        "id": "HBq1rqSrZCny",
        "outputId": "54d1b001-cf8d-4b5e-87f5-5c77ff68a823"
      },
      "source": [
        "model.fit(x_train, y_train, epochs = 10, batch_size = 64)"
      ],
      "execution_count": null,
      "outputs": [
        {
          "output_type": "stream",
          "text": [
            "Epoch 1/10\n",
            "412/412 [==============================] - 29s 14ms/step - loss: 0.0256 - mae: 0.1722\n",
            "Epoch 2/10\n",
            "412/412 [==============================] - 5s 13ms/step - loss: 0.0111 - mae: 0.1100\n",
            "Epoch 3/10\n",
            "412/412 [==============================] - 5s 13ms/step - loss: 0.0103 - mae: 0.1108\n",
            "Epoch 4/10\n",
            "412/412 [==============================] - 6s 13ms/step - loss: 0.0099 - mae: 0.1086\n",
            "Epoch 5/10\n",
            "412/412 [==============================] - 5s 13ms/step - loss: 0.0097 - mae: 0.1082\n",
            "Epoch 6/10\n",
            "412/412 [==============================] - 5s 13ms/step - loss: 0.0094 - mae: 0.1064\n",
            "Epoch 7/10\n",
            "412/412 [==============================] - 5s 13ms/step - loss: 0.0092 - mae: 0.1053\n",
            "Epoch 8/10\n",
            "412/412 [==============================] - 5s 13ms/step - loss: 0.0091 - mae: 0.1046\n",
            "Epoch 9/10\n",
            "412/412 [==============================] - 5s 13ms/step - loss: 0.0087 - mae: 0.1025\n",
            "Epoch 10/10\n",
            "412/412 [==============================] - 5s 13ms/step - loss: 0.0083 - mae: 0.0998\n"
          ],
          "name": "stdout"
        },
        {
          "output_type": "execute_result",
          "data": {
            "text/plain": [
              "<keras.callbacks.History at 0x7fe9f2144610>"
            ]
          },
          "metadata": {
            "tags": []
          },
          "execution_count": 24
        }
      ]
    }
  ]
}